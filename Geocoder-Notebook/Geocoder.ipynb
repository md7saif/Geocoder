{
 "cells": [
  {
   "cell_type": "code",
   "execution_count": 43,
   "metadata": {
    "executionInfo": {
     "elapsed": 8,
     "status": "ok",
     "timestamp": 1628074874437,
     "user": {
      "displayName": "Mohammed Saif",
      "photoUrl": "https://lh3.googleusercontent.com/a-/AOh14Ghj0XbNEna_DcGJzJFAzeP-cmJPv9j6G6WlGdMbwjI=s64",
      "userId": "17148211409437539951"
     },
     "user_tz": -60
    },
    "id": "HXtfq_TFXFwX"
   },
   "outputs": [],
   "source": [
    "import pandas as pd                     "
   ]
  },
  {
   "cell_type": "code",
   "execution_count": 44,
   "metadata": {
    "colab": {
     "base_uri": "https://localhost:8080/"
    },
    "executionInfo": {
     "elapsed": 216,
     "status": "ok",
     "timestamp": 1628074898314,
     "user": {
      "displayName": "Mohammed Saif",
      "photoUrl": "https://lh3.googleusercontent.com/a-/AOh14Ghj0XbNEna_DcGJzJFAzeP-cmJPv9j6G6WlGdMbwjI=s64",
      "userId": "17148211409437539951"
     },
     "user_tz": -60
    },
    "id": "I4Sq2HVQQ5F0",
    "outputId": "4dbca5a5-956c-4778-c023-3a3b8bc8d481"
   },
   "outputs": [],
   "source": [
    "# from google.colab import drive\n",
    "# drive.mount('/content/drive')"
   ]
  },
  {
   "cell_type": "code",
   "execution_count": 45,
   "metadata": {
    "executionInfo": {
     "elapsed": 202,
     "status": "ok",
     "timestamp": 1628078655850,
     "user": {
      "displayName": "Mohammed Saif",
      "photoUrl": "https://lh3.googleusercontent.com/a-/AOh14Ghj0XbNEna_DcGJzJFAzeP-cmJPv9j6G6WlGdMbwjI=s64",
      "userId": "17148211409437539951"
     },
     "user_tz": -60
    },
    "id": "yUnHRE6QWn3X"
   },
   "outputs": [
    {
     "name": "stdout",
     "output_type": "stream",
     "text": [
      "C:\\Users\\Saif\\Downloads\\addresses_for_task.csv\n"
     ]
    }
   ],
   "source": [
    "# Import counties data file form local machine\n",
    "test_addresses_path_local = (r'C:\\Users\\Saif\\Downloads\\addresses_for_task.csv')\n",
    "\n",
    "print(test_addresses_path_local)\n",
    "\n",
    "df_test = pd.read_csv(test_addresses_path_local)\n",
    "\n",
    "# create new columns with ',' as separator\n",
    "df_test['Rd or Local Area'] = df_test['Address'].apply(lambda x:x.split(',')[0])\n",
    "df_test['Townland'] = df_test['Address'].apply(lambda x:x.split(',')[1])\n",
    "df_test['County'] = df_test['Address'].apply(lambda x:x.split(',')[-1])"
   ]
  },
  {
   "cell_type": "code",
   "execution_count": 46,
   "metadata": {
    "colab": {
     "base_uri": "https://localhost:8080/",
     "height": 203
    },
    "executionInfo": {
     "elapsed": 8,
     "status": "ok",
     "timestamp": 1628078656650,
     "user": {
      "displayName": "Mohammed Saif",
      "photoUrl": "https://lh3.googleusercontent.com/a-/AOh14Ghj0XbNEna_DcGJzJFAzeP-cmJPv9j6G6WlGdMbwjI=s64",
      "userId": "17148211409437539951"
     },
     "user_tz": -60
    },
    "id": "8kZ3j2StXCve",
    "outputId": "ca5442df-0d07-4adf-8e8e-bc1538b45fa7",
    "scrolled": true
   },
   "outputs": [
    {
     "data": {
      "text/html": [
       "<div>\n",
       "<style scoped>\n",
       "    .dataframe tbody tr th:only-of-type {\n",
       "        vertical-align: middle;\n",
       "    }\n",
       "\n",
       "    .dataframe tbody tr th {\n",
       "        vertical-align: top;\n",
       "    }\n",
       "\n",
       "    .dataframe thead th {\n",
       "        text-align: right;\n",
       "    }\n",
       "</style>\n",
       "<table border=\"1\" class=\"dataframe\">\n",
       "  <thead>\n",
       "    <tr style=\"text-align: right;\">\n",
       "      <th></th>\n",
       "      <th>Address</th>\n",
       "      <th>Rd or Local Area</th>\n",
       "      <th>Townland</th>\n",
       "      <th>County</th>\n",
       "    </tr>\n",
       "  </thead>\n",
       "  <tbody>\n",
       "    <tr>\n",
       "      <th>0</th>\n",
       "      <td>Coolnakisha, Leighlinbridge, carlow</td>\n",
       "      <td>Coolnakisha</td>\n",
       "      <td>Leighlinbridge</td>\n",
       "      <td>carlow</td>\n",
       "    </tr>\n",
       "    <tr>\n",
       "      <th>1</th>\n",
       "      <td>Castlequarter, Cratloe, clare</td>\n",
       "      <td>Castlequarter</td>\n",
       "      <td>Cratloe</td>\n",
       "      <td>clare</td>\n",
       "    </tr>\n",
       "    <tr>\n",
       "      <th>2</th>\n",
       "      <td>Killagh, Doolin, clare</td>\n",
       "      <td>Killagh</td>\n",
       "      <td>Doolin</td>\n",
       "      <td>clare</td>\n",
       "    </tr>\n",
       "    <tr>\n",
       "      <th>3</th>\n",
       "      <td>Springhill, Ardnacrusha, clare</td>\n",
       "      <td>Springhill</td>\n",
       "      <td>Ardnacrusha</td>\n",
       "      <td>clare</td>\n",
       "    </tr>\n",
       "    <tr>\n",
       "      <th>4</th>\n",
       "      <td>aghern east, conna, cork</td>\n",
       "      <td>aghern east</td>\n",
       "      <td>conna</td>\n",
       "      <td>cork</td>\n",
       "    </tr>\n",
       "  </tbody>\n",
       "</table>\n",
       "</div>"
      ],
      "text/plain": [
       "                               Address Rd or Local Area         Townland  \\\n",
       "0  Coolnakisha, Leighlinbridge, carlow      Coolnakisha   Leighlinbridge   \n",
       "1        Castlequarter, Cratloe, clare    Castlequarter          Cratloe   \n",
       "2               Killagh, Doolin, clare          Killagh           Doolin   \n",
       "3       Springhill, Ardnacrusha, clare       Springhill      Ardnacrusha   \n",
       "4             aghern east, conna, cork      aghern east            conna   \n",
       "\n",
       "    County  \n",
       "0   carlow  \n",
       "1    clare  \n",
       "2    clare  \n",
       "3    clare  \n",
       "4     cork  "
      ]
     },
     "execution_count": 46,
     "metadata": {},
     "output_type": "execute_result"
    }
   ],
   "source": [
    "df_test.head(5)"
   ]
  },
  {
   "cell_type": "code",
   "execution_count": 47,
   "metadata": {
    "colab": {
     "base_uri": "https://localhost:8080/",
     "height": 35
    },
    "executionInfo": {
     "elapsed": 5,
     "status": "ok",
     "timestamp": 1628078657425,
     "user": {
      "displayName": "Mohammed Saif",
      "photoUrl": "https://lh3.googleusercontent.com/a-/AOh14Ghj0XbNEna_DcGJzJFAzeP-cmJPv9j6G6WlGdMbwjI=s64",
      "userId": "17148211409437539951"
     },
     "user_tz": -60
    },
    "id": "WnzXmG37aBUQ",
    "outputId": "6ce33fe3-b6e7-4d56-c07c-b224f454379a"
   },
   "outputs": [
    {
     "data": {
      "text/plain": [
       "'Coolnakisha, Leighlinbridge, carlow'"
      ]
     },
     "execution_count": 47,
     "metadata": {},
     "output_type": "execute_result"
    }
   ],
   "source": [
    "df_test['Address'][0]"
   ]
  },
  {
   "cell_type": "code",
   "execution_count": 48,
   "metadata": {
    "colab": {
     "base_uri": "https://localhost:8080/",
     "height": 35
    },
    "executionInfo": {
     "elapsed": 500,
     "status": "ok",
     "timestamp": 1628078659194,
     "user": {
      "displayName": "Mohammed Saif",
      "photoUrl": "https://lh3.googleusercontent.com/a-/AOh14Ghj0XbNEna_DcGJzJFAzeP-cmJPv9j6G6WlGdMbwjI=s64",
      "userId": "17148211409437539951"
     },
     "user_tz": -60
    },
    "id": "ro8hDrH9CygH",
    "outputId": "ef30d3d2-6f07-41ca-8645-eecc869ae08e"
   },
   "outputs": [
    {
     "data": {
      "text/plain": [
       "' carlow'"
      ]
     },
     "execution_count": 48,
     "metadata": {},
     "output_type": "execute_result"
    }
   ],
   "source": [
    "# values contain leading and trailing whitespaces\n",
    "df_test['County'][0]"
   ]
  },
  {
   "cell_type": "code",
   "execution_count": 49,
   "metadata": {
    "colab": {
     "base_uri": "https://localhost:8080/",
     "height": 35
    },
    "executionInfo": {
     "elapsed": 8,
     "status": "ok",
     "timestamp": 1628078660094,
     "user": {
      "displayName": "Mohammed Saif",
      "photoUrl": "https://lh3.googleusercontent.com/a-/AOh14Ghj0XbNEna_DcGJzJFAzeP-cmJPv9j6G6WlGdMbwjI=s64",
      "userId": "17148211409437539951"
     },
     "user_tz": -60
    },
    "id": "ZJbDu2xtCx7R",
    "outputId": "397c14fc-777e-45a0-d6fc-b23590c5eae7"
   },
   "outputs": [
    {
     "data": {
      "text/plain": [
       "'carlow'"
      ]
     },
     "execution_count": 49,
     "metadata": {},
     "output_type": "execute_result"
    }
   ],
   "source": [
    "# removing whitespaces from County Column\n",
    "df_test['County'] = df_test['County'].apply(lambda x: x.strip())\n",
    "df_test['County'][0]"
   ]
  },
  {
   "cell_type": "code",
   "execution_count": 50,
   "metadata": {
    "executionInfo": {
     "elapsed": 309,
     "status": "ok",
     "timestamp": 1628074904694,
     "user": {
      "displayName": "Mohammed Saif",
      "photoUrl": "https://lh3.googleusercontent.com/a-/AOh14Ghj0XbNEna_DcGJzJFAzeP-cmJPv9j6G6WlGdMbwjI=s64",
      "userId": "17148211409437539951"
     },
     "user_tz": -60
    },
    "id": "sUVdQTicaUMe"
   },
   "outputs": [
    {
     "name": "stdout",
     "output_type": "stream",
     "text": [
      "C:\\Users\\Saif\\Downloads\\Counties_-_OSi_National_Placenames_Gazetteer.csv\n"
     ]
    }
   ],
   "source": [
    "# Import counties data file form local machine\n",
    "counties_path_local = (r'C:\\Users\\Saif\\Downloads\\Counties_-_OSi_National_Placenames_Gazetteer.csv')\n",
    "\n",
    "print(counties_path_local)\n",
    "\n",
    "df_counties_data = pd.read_csv(counties_path_local)"
   ]
  },
  {
   "cell_type": "code",
   "execution_count": 51,
   "metadata": {
    "colab": {
     "base_uri": "https://localhost:8080/",
     "height": 240
    },
    "executionInfo": {
     "elapsed": 3,
     "status": "ok",
     "timestamp": 1628074905000,
     "user": {
      "displayName": "Mohammed Saif",
      "photoUrl": "https://lh3.googleusercontent.com/a-/AOh14Ghj0XbNEna_DcGJzJFAzeP-cmJPv9j6G6WlGdMbwjI=s64",
      "userId": "17148211409437539951"
     },
     "user_tz": -60
    },
    "id": "32yTogVXD--L",
    "outputId": "90f168ba-0d54-4f74-dd46-186e130dd877"
   },
   "outputs": [
    {
     "data": {
      "text/html": [
       "<div>\n",
       "<style scoped>\n",
       "    .dataframe tbody tr th:only-of-type {\n",
       "        vertical-align: middle;\n",
       "    }\n",
       "\n",
       "    .dataframe tbody tr th {\n",
       "        vertical-align: top;\n",
       "    }\n",
       "\n",
       "    .dataframe thead th {\n",
       "        text-align: right;\n",
       "    }\n",
       "</style>\n",
       "<table border=\"1\" class=\"dataframe\">\n",
       "  <thead>\n",
       "    <tr style=\"text-align: right;\">\n",
       "      <th></th>\n",
       "      <th>OBJECTID</th>\n",
       "      <th>County</th>\n",
       "      <th>Contae</th>\n",
       "      <th>Local_Government_Area</th>\n",
       "      <th>Limistéar_Rialtas_Áitiúil</th>\n",
       "      <th>Classification</th>\n",
       "      <th>Cineál</th>\n",
       "      <th>Gaeltacht</th>\n",
       "      <th>Town_Classification</th>\n",
       "      <th>ID</th>\n",
       "      <th>...</th>\n",
       "      <th>Alternative_Name</th>\n",
       "      <th>IG_E</th>\n",
       "      <th>IG_N</th>\n",
       "      <th>ITM_E</th>\n",
       "      <th>ITM_N</th>\n",
       "      <th>Irish_Validation</th>\n",
       "      <th>Legislation</th>\n",
       "      <th>Validated_By</th>\n",
       "      <th>Date_</th>\n",
       "      <th>Comment_</th>\n",
       "    </tr>\n",
       "  </thead>\n",
       "  <tbody>\n",
       "    <tr>\n",
       "      <th>0</th>\n",
       "      <td>1</td>\n",
       "      <td>CARLOW</td>\n",
       "      <td>Ceatharlach</td>\n",
       "      <td>CARLOW</td>\n",
       "      <td>NaN</td>\n",
       "      <td>C</td>\n",
       "      <td>Co</td>\n",
       "      <td>N</td>\n",
       "      <td>NaN</td>\n",
       "      <td>10000</td>\n",
       "      <td>...</td>\n",
       "      <td>NaN</td>\n",
       "      <td>277734</td>\n",
       "      <td>163675</td>\n",
       "      <td>677668</td>\n",
       "      <td>663717</td>\n",
       "      <td>4</td>\n",
       "      <td>519</td>\n",
       "      <td>FJF</td>\n",
       "      <td>1179273600000</td>\n",
       "      <td>NaN</td>\n",
       "    </tr>\n",
       "    <tr>\n",
       "      <th>1</th>\n",
       "      <td>2</td>\n",
       "      <td>CAVAN</td>\n",
       "      <td>An Cabhán</td>\n",
       "      <td>CAVAN</td>\n",
       "      <td>NaN</td>\n",
       "      <td>C</td>\n",
       "      <td>Co</td>\n",
       "      <td>N</td>\n",
       "      <td>NaN</td>\n",
       "      <td>20000</td>\n",
       "      <td>...</td>\n",
       "      <td>NaN</td>\n",
       "      <td>243599</td>\n",
       "      <td>300462</td>\n",
       "      <td>643541</td>\n",
       "      <td>800474</td>\n",
       "      <td>4</td>\n",
       "      <td>519</td>\n",
       "      <td>FJF</td>\n",
       "      <td>1179273600000</td>\n",
       "      <td>NaN</td>\n",
       "    </tr>\n",
       "    <tr>\n",
       "      <th>2</th>\n",
       "      <td>3</td>\n",
       "      <td>CLARE</td>\n",
       "      <td>An Clár</td>\n",
       "      <td>CLARE</td>\n",
       "      <td>NaN</td>\n",
       "      <td>C</td>\n",
       "      <td>Co</td>\n",
       "      <td>N</td>\n",
       "      <td>NaN</td>\n",
       "      <td>30000</td>\n",
       "      <td>...</td>\n",
       "      <td></td>\n",
       "      <td>129521</td>\n",
       "      <td>179535</td>\n",
       "      <td>529487</td>\n",
       "      <td>679574</td>\n",
       "      <td>4</td>\n",
       "      <td>519</td>\n",
       "      <td>FJF</td>\n",
       "      <td>1179273600000</td>\n",
       "      <td>NaN</td>\n",
       "    </tr>\n",
       "    <tr>\n",
       "      <th>3</th>\n",
       "      <td>4</td>\n",
       "      <td>CORK</td>\n",
       "      <td>Corcaigh</td>\n",
       "      <td>CORK/CORK CITY</td>\n",
       "      <td>NaN</td>\n",
       "      <td>C</td>\n",
       "      <td>Co</td>\n",
       "      <td>Y</td>\n",
       "      <td>NaN</td>\n",
       "      <td>40000</td>\n",
       "      <td>...</td>\n",
       "      <td>NaN</td>\n",
       "      <td>147540</td>\n",
       "      <td>82041</td>\n",
       "      <td>547502</td>\n",
       "      <td>582101</td>\n",
       "      <td>4</td>\n",
       "      <td>519</td>\n",
       "      <td>FJF</td>\n",
       "      <td>1179273600000</td>\n",
       "      <td>NaN</td>\n",
       "    </tr>\n",
       "    <tr>\n",
       "      <th>4</th>\n",
       "      <td>5</td>\n",
       "      <td>DONEGAL</td>\n",
       "      <td>Dún na nGall</td>\n",
       "      <td>DONEGAL</td>\n",
       "      <td>NaN</td>\n",
       "      <td>C</td>\n",
       "      <td>Co</td>\n",
       "      <td>Y</td>\n",
       "      <td>NaN</td>\n",
       "      <td>50000</td>\n",
       "      <td>...</td>\n",
       "      <td>NaN</td>\n",
       "      <td>200343</td>\n",
       "      <td>402042</td>\n",
       "      <td>600295</td>\n",
       "      <td>902033</td>\n",
       "      <td>4</td>\n",
       "      <td>519</td>\n",
       "      <td>FJF</td>\n",
       "      <td>1179273600000</td>\n",
       "      <td>NaN</td>\n",
       "    </tr>\n",
       "  </tbody>\n",
       "</table>\n",
       "<p>5 rows × 23 columns</p>\n",
       "</div>"
      ],
      "text/plain": [
       "   OBJECTID   County        Contae Local_Government_Area  \\\n",
       "0         1   CARLOW   Ceatharlach                CARLOW   \n",
       "1         2    CAVAN     An Cabhán                 CAVAN   \n",
       "2         3    CLARE       An Clár                 CLARE   \n",
       "3         4     CORK      Corcaigh        CORK/CORK CITY   \n",
       "4         5  DONEGAL  Dún na nGall               DONEGAL   \n",
       "\n",
       "   Limistéar_Rialtas_Áitiúil Classification Cineál Gaeltacht  \\\n",
       "0                        NaN              C     Co         N   \n",
       "1                        NaN              C     Co         N   \n",
       "2                        NaN              C     Co         N   \n",
       "3                        NaN              C     Co         Y   \n",
       "4                        NaN              C     Co         Y   \n",
       "\n",
       "   Town_Classification     ID  ...  \\\n",
       "0                  NaN  10000  ...   \n",
       "1                  NaN  20000  ...   \n",
       "2                  NaN  30000  ...   \n",
       "3                  NaN  40000  ...   \n",
       "4                  NaN  50000  ...   \n",
       "\n",
       "                               Alternative_Name    IG_E    IG_N   ITM_E  \\\n",
       "0                                           NaN  277734  163675  677668   \n",
       "1                                           NaN  243599  300462  643541   \n",
       "2                                                129521  179535  529487   \n",
       "3                                           NaN  147540   82041  547502   \n",
       "4                                           NaN  200343  402042  600295   \n",
       "\n",
       "    ITM_N  Irish_Validation  Legislation  Validated_By          Date_  \\\n",
       "0  663717                 4          519           FJF  1179273600000   \n",
       "1  800474                 4          519           FJF  1179273600000   \n",
       "2  679574                 4          519           FJF  1179273600000   \n",
       "3  582101                 4          519           FJF  1179273600000   \n",
       "4  902033                 4          519           FJF  1179273600000   \n",
       "\n",
       "   Comment_  \n",
       "0       NaN  \n",
       "1       NaN  \n",
       "2       NaN  \n",
       "3       NaN  \n",
       "4       NaN  \n",
       "\n",
       "[5 rows x 23 columns]"
      ]
     },
     "execution_count": 51,
     "metadata": {},
     "output_type": "execute_result"
    }
   ],
   "source": [
    "df_counties_data.head(5)"
   ]
  },
  {
   "cell_type": "code",
   "execution_count": 52,
   "metadata": {
    "colab": {
     "base_uri": "https://localhost:8080/",
     "height": 240
    },
    "executionInfo": {
     "elapsed": 317,
     "status": "ok",
     "timestamp": 1628074905760,
     "user": {
      "displayName": "Mohammed Saif",
      "photoUrl": "https://lh3.googleusercontent.com/a-/AOh14Ghj0XbNEna_DcGJzJFAzeP-cmJPv9j6G6WlGdMbwjI=s64",
      "userId": "17148211409437539951"
     },
     "user_tz": -60
    },
    "id": "0PPXkfVSEAK6",
    "outputId": "de3fab69-b75a-4115-bf2c-0beae1072d63"
   },
   "outputs": [
    {
     "data": {
      "text/html": [
       "<div>\n",
       "<style scoped>\n",
       "    .dataframe tbody tr th:only-of-type {\n",
       "        vertical-align: middle;\n",
       "    }\n",
       "\n",
       "    .dataframe tbody tr th {\n",
       "        vertical-align: top;\n",
       "    }\n",
       "\n",
       "    .dataframe thead th {\n",
       "        text-align: right;\n",
       "    }\n",
       "</style>\n",
       "<table border=\"1\" class=\"dataframe\">\n",
       "  <thead>\n",
       "    <tr style=\"text-align: right;\">\n",
       "      <th></th>\n",
       "      <th>OBJECTID</th>\n",
       "      <th>County</th>\n",
       "      <th>Contae</th>\n",
       "      <th>Local_Government_Area</th>\n",
       "      <th>Limistéar_Rialtas_Áitiúil</th>\n",
       "      <th>Classification</th>\n",
       "      <th>Cineál</th>\n",
       "      <th>Gaeltacht</th>\n",
       "      <th>Town_Classification</th>\n",
       "      <th>ID</th>\n",
       "      <th>...</th>\n",
       "      <th>Alternative_Name</th>\n",
       "      <th>IG_E</th>\n",
       "      <th>IG_N</th>\n",
       "      <th>ITM_E</th>\n",
       "      <th>ITM_N</th>\n",
       "      <th>Irish_Validation</th>\n",
       "      <th>Legislation</th>\n",
       "      <th>Validated_By</th>\n",
       "      <th>Date_</th>\n",
       "      <th>Comment_</th>\n",
       "    </tr>\n",
       "  </thead>\n",
       "  <tbody>\n",
       "    <tr>\n",
       "      <th>0</th>\n",
       "      <td>1</td>\n",
       "      <td>CARLOW</td>\n",
       "      <td>Ceatharlach</td>\n",
       "      <td>CARLOW</td>\n",
       "      <td>NaN</td>\n",
       "      <td>C</td>\n",
       "      <td>Co</td>\n",
       "      <td>N</td>\n",
       "      <td>NaN</td>\n",
       "      <td>10000</td>\n",
       "      <td>...</td>\n",
       "      <td>NaN</td>\n",
       "      <td>277734</td>\n",
       "      <td>163675</td>\n",
       "      <td>677668</td>\n",
       "      <td>663717</td>\n",
       "      <td>4</td>\n",
       "      <td>519</td>\n",
       "      <td>FJF</td>\n",
       "      <td>1179273600000</td>\n",
       "      <td>NaN</td>\n",
       "    </tr>\n",
       "    <tr>\n",
       "      <th>1</th>\n",
       "      <td>2</td>\n",
       "      <td>CAVAN</td>\n",
       "      <td>An Cabhán</td>\n",
       "      <td>CAVAN</td>\n",
       "      <td>NaN</td>\n",
       "      <td>C</td>\n",
       "      <td>Co</td>\n",
       "      <td>N</td>\n",
       "      <td>NaN</td>\n",
       "      <td>20000</td>\n",
       "      <td>...</td>\n",
       "      <td>NaN</td>\n",
       "      <td>243599</td>\n",
       "      <td>300462</td>\n",
       "      <td>643541</td>\n",
       "      <td>800474</td>\n",
       "      <td>4</td>\n",
       "      <td>519</td>\n",
       "      <td>FJF</td>\n",
       "      <td>1179273600000</td>\n",
       "      <td>NaN</td>\n",
       "    </tr>\n",
       "    <tr>\n",
       "      <th>2</th>\n",
       "      <td>3</td>\n",
       "      <td>CLARE</td>\n",
       "      <td>An Clár</td>\n",
       "      <td>CLARE</td>\n",
       "      <td>NaN</td>\n",
       "      <td>C</td>\n",
       "      <td>Co</td>\n",
       "      <td>N</td>\n",
       "      <td>NaN</td>\n",
       "      <td>30000</td>\n",
       "      <td>...</td>\n",
       "      <td></td>\n",
       "      <td>129521</td>\n",
       "      <td>179535</td>\n",
       "      <td>529487</td>\n",
       "      <td>679574</td>\n",
       "      <td>4</td>\n",
       "      <td>519</td>\n",
       "      <td>FJF</td>\n",
       "      <td>1179273600000</td>\n",
       "      <td>NaN</td>\n",
       "    </tr>\n",
       "    <tr>\n",
       "      <th>3</th>\n",
       "      <td>4</td>\n",
       "      <td>CORK</td>\n",
       "      <td>Corcaigh</td>\n",
       "      <td>CORK/CORK CITY</td>\n",
       "      <td>NaN</td>\n",
       "      <td>C</td>\n",
       "      <td>Co</td>\n",
       "      <td>Y</td>\n",
       "      <td>NaN</td>\n",
       "      <td>40000</td>\n",
       "      <td>...</td>\n",
       "      <td>NaN</td>\n",
       "      <td>147540</td>\n",
       "      <td>82041</td>\n",
       "      <td>547502</td>\n",
       "      <td>582101</td>\n",
       "      <td>4</td>\n",
       "      <td>519</td>\n",
       "      <td>FJF</td>\n",
       "      <td>1179273600000</td>\n",
       "      <td>NaN</td>\n",
       "    </tr>\n",
       "    <tr>\n",
       "      <th>4</th>\n",
       "      <td>5</td>\n",
       "      <td>DONEGAL</td>\n",
       "      <td>Dún na nGall</td>\n",
       "      <td>DONEGAL</td>\n",
       "      <td>NaN</td>\n",
       "      <td>C</td>\n",
       "      <td>Co</td>\n",
       "      <td>Y</td>\n",
       "      <td>NaN</td>\n",
       "      <td>50000</td>\n",
       "      <td>...</td>\n",
       "      <td>NaN</td>\n",
       "      <td>200343</td>\n",
       "      <td>402042</td>\n",
       "      <td>600295</td>\n",
       "      <td>902033</td>\n",
       "      <td>4</td>\n",
       "      <td>519</td>\n",
       "      <td>FJF</td>\n",
       "      <td>1179273600000</td>\n",
       "      <td>NaN</td>\n",
       "    </tr>\n",
       "  </tbody>\n",
       "</table>\n",
       "<p>5 rows × 23 columns</p>\n",
       "</div>"
      ],
      "text/plain": [
       "   OBJECTID   County        Contae Local_Government_Area  \\\n",
       "0         1   CARLOW   Ceatharlach                CARLOW   \n",
       "1         2    CAVAN     An Cabhán                 CAVAN   \n",
       "2         3    CLARE       An Clár                 CLARE   \n",
       "3         4     CORK      Corcaigh        CORK/CORK CITY   \n",
       "4         5  DONEGAL  Dún na nGall               DONEGAL   \n",
       "\n",
       "   Limistéar_Rialtas_Áitiúil Classification Cineál Gaeltacht  \\\n",
       "0                        NaN              C     Co         N   \n",
       "1                        NaN              C     Co         N   \n",
       "2                        NaN              C     Co         N   \n",
       "3                        NaN              C     Co         Y   \n",
       "4                        NaN              C     Co         Y   \n",
       "\n",
       "   Town_Classification     ID  ...  \\\n",
       "0                  NaN  10000  ...   \n",
       "1                  NaN  20000  ...   \n",
       "2                  NaN  30000  ...   \n",
       "3                  NaN  40000  ...   \n",
       "4                  NaN  50000  ...   \n",
       "\n",
       "                               Alternative_Name    IG_E    IG_N   ITM_E  \\\n",
       "0                                           NaN  277734  163675  677668   \n",
       "1                                           NaN  243599  300462  643541   \n",
       "2                                                129521  179535  529487   \n",
       "3                                           NaN  147540   82041  547502   \n",
       "4                                           NaN  200343  402042  600295   \n",
       "\n",
       "    ITM_N  Irish_Validation  Legislation  Validated_By          Date_  \\\n",
       "0  663717                 4          519           FJF  1179273600000   \n",
       "1  800474                 4          519           FJF  1179273600000   \n",
       "2  679574                 4          519           FJF  1179273600000   \n",
       "3  582101                 4          519           FJF  1179273600000   \n",
       "4  902033                 4          519           FJF  1179273600000   \n",
       "\n",
       "   Comment_  \n",
       "0       NaN  \n",
       "1       NaN  \n",
       "2       NaN  \n",
       "3       NaN  \n",
       "4       NaN  \n",
       "\n",
       "[5 rows x 23 columns]"
      ]
     },
     "execution_count": 52,
     "metadata": {},
     "output_type": "execute_result"
    }
   ],
   "source": [
    "df_counties = df_counties_data.copy()\n",
    "df_counties.head(5)"
   ]
  },
  {
   "cell_type": "code",
   "execution_count": 53,
   "metadata": {
    "colab": {
     "base_uri": "https://localhost:8080/"
    },
    "executionInfo": {
     "elapsed": 3,
     "status": "ok",
     "timestamp": 1628074905979,
     "user": {
      "displayName": "Mohammed Saif",
      "photoUrl": "https://lh3.googleusercontent.com/a-/AOh14Ghj0XbNEna_DcGJzJFAzeP-cmJPv9j6G6WlGdMbwjI=s64",
      "userId": "17148211409437539951"
     },
     "user_tz": -60
    },
    "id": "6kZEICX-Fa8E",
    "outputId": "8dc3fd13-b74e-4628-8503-7f5d73908d32"
   },
   "outputs": [
    {
     "data": {
      "text/plain": [
       "True"
      ]
     },
     "execution_count": 53,
     "metadata": {},
     "output_type": "execute_result"
    }
   ],
   "source": [
    "# Checking if 'English_Name' and 'County' have same values\n",
    "df_counties['English_Name'].equals(df_counties['County'])"
   ]
  },
  {
   "cell_type": "code",
   "execution_count": 54,
   "metadata": {
    "colab": {
     "base_uri": "https://localhost:8080/",
     "height": 203
    },
    "executionInfo": {
     "elapsed": 12,
     "status": "ok",
     "timestamp": 1628074906480,
     "user": {
      "displayName": "Mohammed Saif",
      "photoUrl": "https://lh3.googleusercontent.com/a-/AOh14Ghj0XbNEna_DcGJzJFAzeP-cmJPv9j6G6WlGdMbwjI=s64",
      "userId": "17148211409437539951"
     },
     "user_tz": -60
    },
    "id": "DHeA7GVGEumz",
    "outputId": "6c085cc6-d9ee-40cc-d052-93bad92475d6"
   },
   "outputs": [
    {
     "data": {
      "text/html": [
       "<div>\n",
       "<style scoped>\n",
       "    .dataframe tbody tr th:only-of-type {\n",
       "        vertical-align: middle;\n",
       "    }\n",
       "\n",
       "    .dataframe tbody tr th {\n",
       "        vertical-align: top;\n",
       "    }\n",
       "\n",
       "    .dataframe thead th {\n",
       "        text-align: right;\n",
       "    }\n",
       "</style>\n",
       "<table border=\"1\" class=\"dataframe\">\n",
       "  <thead>\n",
       "    <tr style=\"text-align: right;\">\n",
       "      <th></th>\n",
       "      <th>English_Name</th>\n",
       "      <th>ID</th>\n",
       "      <th>IG_E</th>\n",
       "      <th>IG_N</th>\n",
       "      <th>ITM_E</th>\n",
       "      <th>ITM_N</th>\n",
       "    </tr>\n",
       "  </thead>\n",
       "  <tbody>\n",
       "    <tr>\n",
       "      <th>0</th>\n",
       "      <td>CARLOW</td>\n",
       "      <td>10000</td>\n",
       "      <td>277734</td>\n",
       "      <td>163675</td>\n",
       "      <td>677668</td>\n",
       "      <td>663717</td>\n",
       "    </tr>\n",
       "    <tr>\n",
       "      <th>1</th>\n",
       "      <td>CAVAN</td>\n",
       "      <td>20000</td>\n",
       "      <td>243599</td>\n",
       "      <td>300462</td>\n",
       "      <td>643541</td>\n",
       "      <td>800474</td>\n",
       "    </tr>\n",
       "    <tr>\n",
       "      <th>2</th>\n",
       "      <td>CLARE</td>\n",
       "      <td>30000</td>\n",
       "      <td>129521</td>\n",
       "      <td>179535</td>\n",
       "      <td>529487</td>\n",
       "      <td>679574</td>\n",
       "    </tr>\n",
       "    <tr>\n",
       "      <th>3</th>\n",
       "      <td>CORK</td>\n",
       "      <td>40000</td>\n",
       "      <td>147540</td>\n",
       "      <td>82041</td>\n",
       "      <td>547502</td>\n",
       "      <td>582101</td>\n",
       "    </tr>\n",
       "    <tr>\n",
       "      <th>4</th>\n",
       "      <td>DONEGAL</td>\n",
       "      <td>50000</td>\n",
       "      <td>200343</td>\n",
       "      <td>402042</td>\n",
       "      <td>600295</td>\n",
       "      <td>902033</td>\n",
       "    </tr>\n",
       "  </tbody>\n",
       "</table>\n",
       "</div>"
      ],
      "text/plain": [
       "  English_Name     ID    IG_E    IG_N   ITM_E   ITM_N\n",
       "0       CARLOW  10000  277734  163675  677668  663717\n",
       "1        CAVAN  20000  243599  300462  643541  800474\n",
       "2        CLARE  30000  129521  179535  529487  679574\n",
       "3         CORK  40000  147540   82041  547502  582101\n",
       "4      DONEGAL  50000  200343  402042  600295  902033"
      ]
     },
     "execution_count": 54,
     "metadata": {},
     "output_type": "execute_result"
    }
   ],
   "source": [
    "# Remove columns name we don't need\n",
    "df_counties = df_counties[['English_Name','ID', 'IG_E', 'IG_N', 'ITM_E', 'ITM_N']]\n",
    "df_counties.head(5)"
   ]
  },
  {
   "cell_type": "code",
   "execution_count": 55,
   "metadata": {
    "executionInfo": {
     "elapsed": 3,
     "status": "ok",
     "timestamp": 1628074907103,
     "user": {
      "displayName": "Mohammed Saif",
      "photoUrl": "https://lh3.googleusercontent.com/a-/AOh14Ghj0XbNEna_DcGJzJFAzeP-cmJPv9j6G6WlGdMbwjI=s64",
      "userId": "17148211409437539951"
     },
     "user_tz": -60
    },
    "id": "_ijyIMV4GWpY"
   },
   "outputs": [],
   "source": [
    "# Function to convert ITM to WGS84 coordinates\n",
    "\n",
    "from math import *\n",
    "\n",
    "############################################################################\n",
    "\n",
    "# Meridian Arc\n",
    "\n",
    "############################################################################\n",
    "\n",
    "def arcmer(a,equad,lat1,lat2):\n",
    "\n",
    "    b=a*sqrt(1-equad)\n",
    "\n",
    "    n=(a-b)/(a+b)\n",
    "\n",
    "    a0=1.+((n**2)/4.)+((n**4)/64.)\n",
    "\n",
    "    a2=(3./2.)*(n-((n**3)/8.))\n",
    "\n",
    "    a4=(15./16.)*((n**2)-((n**4)/4.))\n",
    "\n",
    "    a6=(35./48.)*(n**3)\n",
    "\n",
    "\n",
    "\n",
    "    s1=a/(1+n)*(a0*lat1-a2*sin(2.*lat1)+a4*sin(4.*lat1)-a6*sin(6.*lat1))\n",
    "\n",
    "    s2=a/(1+n)*(a0*lat2-a2*sin(2.*lat2)+a4*sin(4.*lat2)-a6*sin(6.*lat2))\n",
    "\n",
    "    return s2-s1\n",
    "\n",
    "###############################################################################\n",
    "#\n",
    "# Transverse Mercator Inverse Projection\n",
    "#\n",
    "###############################################################################\n",
    "def xy2geo(m,p,a,equad,lat0,lon0):\n",
    "\n",
    "    lat0=radians(lat0)\n",
    "    lon0=radians(lon0)\n",
    "\n",
    "    sigma1=p\n",
    "\n",
    "    fil=lat0+sigma1/(a*(1-equad))\n",
    "\n",
    "    deltafi=1\n",
    "\n",
    "    while deltafi > 0.0000000001:\n",
    "\n",
    "        sigma2=arcmer(a,equad,lat0,fil)\n",
    "\n",
    "        RO=a*(1-equad)/((1-equad*(sin(fil)**2))**(3./2.))\n",
    "\n",
    "        deltafi=(sigma1-sigma2)/RO\n",
    "\n",
    "        fil=fil+deltafi \n",
    "\n",
    "\n",
    "    N=a/sqrt(1-equad*(sin(fil))**2)\n",
    "\n",
    "    RO=a*(1-equad)/((1-equad*(sin(fil)**2))**(3./2.))\n",
    "\n",
    "    t=tan(fil)\n",
    "\n",
    "    psi=N/RO\n",
    "\n",
    "    lat=fil-(t/RO)*((m**2)/(2.*N))+(t/RO)*((m**4)/(24.*(N**3)))*(-4.*(psi**2)-9.*psi*(1.-t**2)+12.*(t**2))-(t/RO)*(m**6/(720.*(N**5)))*(8.*(psi**4)*(11.-24.*(t**2))-12.*(psi**3)*(21.-71.*(t**2))+15.*(psi**2)*(15.-98.*(t**2)+15.*(t**4))+180.*psi*(5.*(t**2)-3.*(t**4))-360.*(t**4))+(t/RO)*((m**8)/(40320.*(N**7)))*(1385.+3633.*(t**2)+4095.*(t**4)+1575.*(t**6))\n",
    "\n",
    "    lon=(m/(N))-((m**3)/(6.*(N**3)))*(psi+2.*(t**2))+((m**5)/(120.*(N**5)))*(-4.*(psi**3)*(1.-6.*(t**2))+(psi**2)*(9.-68.*(t**2))+72.*psi*(t**2)+24.*(t**4))-((m**7)/(5040.*(N**7)))*(61.+662.*(t**2)+1320.*(t**4)+720.*(t**6))\n",
    "\n",
    "    lon=lon0+lon/cos(fil)\n",
    "\n",
    "    lat=degrees(lat)\n",
    "    lon=degrees(lon)\n",
    "\n",
    "    return lat,lon\n",
    "\n",
    "\n",
    "#############################################################################\n",
    "\n",
    "# Irish Transverse Mercator - Inverse\n",
    "\n",
    "#############################################################################\n",
    "\n",
    "def itm2geo(x,y):\n",
    "\n",
    "    # GRS-80\n",
    "\n",
    "    a = 6378137.\n",
    "\n",
    "    equad =0.00669437999        \n",
    "\n",
    "    # Natural Origin \n",
    "\n",
    "    lat0=53.5\n",
    "\n",
    "    lon0=-8.\n",
    "\n",
    "    k0=0.999820\n",
    "\n",
    "    p = (y - 750000.) /k0\n",
    "\n",
    "    m = (x - 600000.) /k0\n",
    "\n",
    "    lat,lon = xy2geo(m,p,a,equad,lat0,lon0)\n",
    "\n",
    "    return lat,lon\n",
    "\n",
    "#############################################################################\n",
    "\n",
    "# Test values \n",
    "\n",
    "#############################################################################             \n",
    "#lat=53.5\n",
    "\n",
    "#lon=-8.\n",
    "\n",
    "# test = itm2geo(600000.,750000.)\n",
    "\n",
    "\n",
    "# test = itm2geo(643541, 800474)\n",
    "\n",
    "\n",
    "# print (\"latitude= %.16f\" %test[0])\n",
    "# print (\"longitude= %.16f\" %test[1])"
   ]
  },
  {
   "cell_type": "code",
   "execution_count": 56,
   "metadata": {
    "executionInfo": {
     "elapsed": 9,
     "status": "ok",
     "timestamp": 1628074907630,
     "user": {
      "displayName": "Mohammed Saif",
      "photoUrl": "https://lh3.googleusercontent.com/a-/AOh14Ghj0XbNEna_DcGJzJFAzeP-cmJPv9j6G6WlGdMbwjI=s64",
      "userId": "17148211409437539951"
     },
     "user_tz": -60
    },
    "id": "1hNfDEgRHOHC"
   },
   "outputs": [],
   "source": [
    "# applying convertor function to df_counties | converting tuple to str | remove '(' & ')'\n",
    "df_counties['Lat, Long'] = df_counties.apply(lambda x: itm2geo(x['ITM_E'], x['ITM_N']), axis=1).astype(str).apply(lambda x:x.replace('(','')).apply(lambda x:x.replace(')',''))\n",
    "\n",
    "# \n",
    "# df_counties['Lat, Long'] = df_counties['Lat, Long'].astype(str)\n",
    "# df_counties['Lat, Long'].agg(' '.join)\n",
    "\n",
    "# create new columns with ',' as separator\n",
    "df_counties['Latitude'] = df_counties['Lat, Long'].apply(lambda x:x.split(',')[0])\n",
    "df_counties['Longitude'] = df_counties['Lat, Long'].apply(lambda x:x.split(',')[1])\n",
    "\n",
    "# drop 'Lat, Long' column\n",
    "df_counties = df_counties.drop('Lat, Long', 1)"
   ]
  },
  {
   "cell_type": "code",
   "execution_count": 57,
   "metadata": {
    "colab": {
     "base_uri": "https://localhost:8080/",
     "height": 203
    },
    "executionInfo": {
     "elapsed": 237,
     "status": "ok",
     "timestamp": 1628078675734,
     "user": {
      "displayName": "Mohammed Saif",
      "photoUrl": "https://lh3.googleusercontent.com/a-/AOh14Ghj0XbNEna_DcGJzJFAzeP-cmJPv9j6G6WlGdMbwjI=s64",
      "userId": "17148211409437539951"
     },
     "user_tz": -60
    },
    "id": "ju0kWmx8mZyp",
    "outputId": "626fef36-67ed-4cbf-a2cd-a37f3b3233be"
   },
   "outputs": [
    {
     "data": {
      "text/html": [
       "<div>\n",
       "<style scoped>\n",
       "    .dataframe tbody tr th:only-of-type {\n",
       "        vertical-align: middle;\n",
       "    }\n",
       "\n",
       "    .dataframe tbody tr th {\n",
       "        vertical-align: top;\n",
       "    }\n",
       "\n",
       "    .dataframe thead th {\n",
       "        text-align: right;\n",
       "    }\n",
       "</style>\n",
       "<table border=\"1\" class=\"dataframe\">\n",
       "  <thead>\n",
       "    <tr style=\"text-align: right;\">\n",
       "      <th></th>\n",
       "      <th>English_Name</th>\n",
       "      <th>ID</th>\n",
       "      <th>IG_E</th>\n",
       "      <th>IG_N</th>\n",
       "      <th>ITM_E</th>\n",
       "      <th>ITM_N</th>\n",
       "      <th>Latitude</th>\n",
       "      <th>Longitude</th>\n",
       "    </tr>\n",
       "  </thead>\n",
       "  <tbody>\n",
       "    <tr>\n",
       "      <th>0</th>\n",
       "      <td>CARLOW</td>\n",
       "      <td>10000</td>\n",
       "      <td>277734</td>\n",
       "      <td>163675</td>\n",
       "      <td>677668</td>\n",
       "      <td>663717</td>\n",
       "      <td>52.71897854110081</td>\n",
       "      <td>-6.850367224077807</td>\n",
       "    </tr>\n",
       "    <tr>\n",
       "      <th>1</th>\n",
       "      <td>CAVAN</td>\n",
       "      <td>20000</td>\n",
       "      <td>243599</td>\n",
       "      <td>300462</td>\n",
       "      <td>643541</td>\n",
       "      <td>800474</td>\n",
       "      <td>53.9517459661659</td>\n",
       "      <td>-7.336662850672426</td>\n",
       "    </tr>\n",
       "    <tr>\n",
       "      <th>2</th>\n",
       "      <td>CLARE</td>\n",
       "      <td>30000</td>\n",
       "      <td>129521</td>\n",
       "      <td>179535</td>\n",
       "      <td>529487</td>\n",
       "      <td>679574</td>\n",
       "      <td>52.862452948649015</td>\n",
       "      <td>-9.047161723665381</td>\n",
       "    </tr>\n",
       "    <tr>\n",
       "      <th>3</th>\n",
       "      <td>CORK</td>\n",
       "      <td>40000</td>\n",
       "      <td>147540</td>\n",
       "      <td>82041</td>\n",
       "      <td>547502</td>\n",
       "      <td>582101</td>\n",
       "      <td>51.988470514798514</td>\n",
       "      <td>-8.764354359249522</td>\n",
       "    </tr>\n",
       "    <tr>\n",
       "      <th>4</th>\n",
       "      <td>DONEGAL</td>\n",
       "      <td>50000</td>\n",
       "      <td>200343</td>\n",
       "      <td>402042</td>\n",
       "      <td>600295</td>\n",
       "      <td>902033</td>\n",
       "      <td>54.8661176490957</td>\n",
       "      <td>-7.995404660874215</td>\n",
       "    </tr>\n",
       "  </tbody>\n",
       "</table>\n",
       "</div>"
      ],
      "text/plain": [
       "  English_Name     ID    IG_E    IG_N   ITM_E   ITM_N            Latitude  \\\n",
       "0       CARLOW  10000  277734  163675  677668  663717   52.71897854110081   \n",
       "1        CAVAN  20000  243599  300462  643541  800474    53.9517459661659   \n",
       "2        CLARE  30000  129521  179535  529487  679574  52.862452948649015   \n",
       "3         CORK  40000  147540   82041  547502  582101  51.988470514798514   \n",
       "4      DONEGAL  50000  200343  402042  600295  902033    54.8661176490957   \n",
       "\n",
       "             Longitude  \n",
       "0   -6.850367224077807  \n",
       "1   -7.336662850672426  \n",
       "2   -9.047161723665381  \n",
       "3   -8.764354359249522  \n",
       "4   -7.995404660874215  "
      ]
     },
     "execution_count": 57,
     "metadata": {},
     "output_type": "execute_result"
    }
   ],
   "source": [
    "df_counties.head(5)"
   ]
  },
  {
   "cell_type": "code",
   "execution_count": 58,
   "metadata": {
    "executionInfo": {
     "elapsed": 5,
     "status": "ok",
     "timestamp": 1628074909692,
     "user": {
      "displayName": "Mohammed Saif",
      "photoUrl": "https://lh3.googleusercontent.com/a-/AOh14Ghj0XbNEna_DcGJzJFAzeP-cmJPv9j6G6WlGdMbwjI=s64",
      "userId": "17148211409437539951"
     },
     "user_tz": -60
    },
    "id": "-N1JAdTOmc7K"
   },
   "outputs": [],
   "source": [
    "# # # "
   ]
  },
  {
   "cell_type": "code",
   "execution_count": 59,
   "metadata": {
    "colab": {
     "base_uri": "https://localhost:8080/",
     "height": 203
    },
    "executionInfo": {
     "elapsed": 216,
     "status": "ok",
     "timestamp": 1628078673257,
     "user": {
      "displayName": "Mohammed Saif",
      "photoUrl": "https://lh3.googleusercontent.com/a-/AOh14Ghj0XbNEna_DcGJzJFAzeP-cmJPv9j6G6WlGdMbwjI=s64",
      "userId": "17148211409437539951"
     },
     "user_tz": -60
    },
    "id": "fhkIi9whurI7",
    "outputId": "a1db0eca-011a-4512-8653-9238bbdc706e"
   },
   "outputs": [
    {
     "data": {
      "text/html": [
       "<div>\n",
       "<style scoped>\n",
       "    .dataframe tbody tr th:only-of-type {\n",
       "        vertical-align: middle;\n",
       "    }\n",
       "\n",
       "    .dataframe tbody tr th {\n",
       "        vertical-align: top;\n",
       "    }\n",
       "\n",
       "    .dataframe thead th {\n",
       "        text-align: right;\n",
       "    }\n",
       "</style>\n",
       "<table border=\"1\" class=\"dataframe\">\n",
       "  <thead>\n",
       "    <tr style=\"text-align: right;\">\n",
       "      <th></th>\n",
       "      <th>Address</th>\n",
       "      <th>Rd or Local Area</th>\n",
       "      <th>Townland</th>\n",
       "      <th>County</th>\n",
       "    </tr>\n",
       "  </thead>\n",
       "  <tbody>\n",
       "    <tr>\n",
       "      <th>0</th>\n",
       "      <td>Coolnakisha, Leighlinbridge, carlow</td>\n",
       "      <td>Coolnakisha</td>\n",
       "      <td>Leighlinbridge</td>\n",
       "      <td>carlow</td>\n",
       "    </tr>\n",
       "    <tr>\n",
       "      <th>1</th>\n",
       "      <td>Castlequarter, Cratloe, clare</td>\n",
       "      <td>Castlequarter</td>\n",
       "      <td>Cratloe</td>\n",
       "      <td>clare</td>\n",
       "    </tr>\n",
       "    <tr>\n",
       "      <th>2</th>\n",
       "      <td>Killagh, Doolin, clare</td>\n",
       "      <td>Killagh</td>\n",
       "      <td>Doolin</td>\n",
       "      <td>clare</td>\n",
       "    </tr>\n",
       "    <tr>\n",
       "      <th>3</th>\n",
       "      <td>Springhill, Ardnacrusha, clare</td>\n",
       "      <td>Springhill</td>\n",
       "      <td>Ardnacrusha</td>\n",
       "      <td>clare</td>\n",
       "    </tr>\n",
       "    <tr>\n",
       "      <th>4</th>\n",
       "      <td>aghern east, conna, cork</td>\n",
       "      <td>aghern east</td>\n",
       "      <td>conna</td>\n",
       "      <td>cork</td>\n",
       "    </tr>\n",
       "  </tbody>\n",
       "</table>\n",
       "</div>"
      ],
      "text/plain": [
       "                               Address Rd or Local Area         Townland  \\\n",
       "0  Coolnakisha, Leighlinbridge, carlow      Coolnakisha   Leighlinbridge   \n",
       "1        Castlequarter, Cratloe, clare    Castlequarter          Cratloe   \n",
       "2               Killagh, Doolin, clare          Killagh           Doolin   \n",
       "3       Springhill, Ardnacrusha, clare       Springhill      Ardnacrusha   \n",
       "4             aghern east, conna, cork      aghern east            conna   \n",
       "\n",
       "   County  \n",
       "0  carlow  \n",
       "1   clare  \n",
       "2   clare  \n",
       "3   clare  \n",
       "4    cork  "
      ]
     },
     "execution_count": 59,
     "metadata": {},
     "output_type": "execute_result"
    }
   ],
   "source": [
    "df_test.head(5)"
   ]
  },
  {
   "cell_type": "code",
   "execution_count": 60,
   "metadata": {
    "colab": {
     "base_uri": "https://localhost:8080/",
     "height": 80
    },
    "executionInfo": {
     "elapsed": 215,
     "status": "ok",
     "timestamp": 1628078686454,
     "user": {
      "displayName": "Mohammed Saif",
      "photoUrl": "https://lh3.googleusercontent.com/a-/AOh14Ghj0XbNEna_DcGJzJFAzeP-cmJPv9j6G6WlGdMbwjI=s64",
      "userId": "17148211409437539951"
     },
     "user_tz": -60
    },
    "id": "5F6PezX749ud",
    "outputId": "aada847a-29d5-464d-c45c-80dd18ce1227"
   },
   "outputs": [
    {
     "data": {
      "text/html": [
       "<div>\n",
       "<style scoped>\n",
       "    .dataframe tbody tr th:only-of-type {\n",
       "        vertical-align: middle;\n",
       "    }\n",
       "\n",
       "    .dataframe tbody tr th {\n",
       "        vertical-align: top;\n",
       "    }\n",
       "\n",
       "    .dataframe thead th {\n",
       "        text-align: right;\n",
       "    }\n",
       "</style>\n",
       "<table border=\"1\" class=\"dataframe\">\n",
       "  <thead>\n",
       "    <tr style=\"text-align: right;\">\n",
       "      <th></th>\n",
       "      <th>English_Name</th>\n",
       "      <th>ID</th>\n",
       "      <th>IG_E</th>\n",
       "      <th>IG_N</th>\n",
       "      <th>ITM_E</th>\n",
       "      <th>ITM_N</th>\n",
       "      <th>Latitude</th>\n",
       "      <th>Longitude</th>\n",
       "    </tr>\n",
       "  </thead>\n",
       "  <tbody>\n",
       "    <tr>\n",
       "      <th>0</th>\n",
       "      <td>carlow</td>\n",
       "      <td>10000</td>\n",
       "      <td>277734</td>\n",
       "      <td>163675</td>\n",
       "      <td>677668</td>\n",
       "      <td>663717</td>\n",
       "      <td>52.71897854110081</td>\n",
       "      <td>-6.850367224077807</td>\n",
       "    </tr>\n",
       "  </tbody>\n",
       "</table>\n",
       "</div>"
      ],
      "text/plain": [
       "  English_Name     ID    IG_E    IG_N   ITM_E   ITM_N           Latitude  \\\n",
       "0       carlow  10000  277734  163675  677668  663717  52.71897854110081   \n",
       "\n",
       "             Longitude  \n",
       "0   -6.850367224077807  "
      ]
     },
     "execution_count": 60,
     "metadata": {},
     "output_type": "execute_result"
    }
   ],
   "source": [
    "df_counties[\"English_Name\"] = df_counties[\"English_Name\"].str.lower()\n",
    "df_counties.head(1)"
   ]
  },
  {
   "cell_type": "code",
   "execution_count": 61,
   "metadata": {
    "executionInfo": {
     "elapsed": 208,
     "status": "ok",
     "timestamp": 1628080805643,
     "user": {
      "displayName": "Mohammed Saif",
      "photoUrl": "https://lh3.googleusercontent.com/a-/AOh14Ghj0XbNEna_DcGJzJFAzeP-cmJPv9j6G6WlGdMbwjI=s64",
      "userId": "17148211409437539951"
     },
     "user_tz": -60
    },
    "id": "GNNIWxkkA6wO"
   },
   "outputs": [],
   "source": [
    "# Merging\n",
    "df_test_merged = pd.merge(left = df_test, right = df_counties, left_on='County', right_on='English_Name')\n",
    "df_test_merged = df_test_merged[['Address','County','ID','Latitude', 'Longitude']]"
   ]
  },
  {
   "cell_type": "code",
   "execution_count": 62,
   "metadata": {
    "colab": {
     "base_uri": "https://localhost:8080/",
     "height": 203
    },
    "executionInfo": {
     "elapsed": 233,
     "status": "ok",
     "timestamp": 1628080878127,
     "user": {
      "displayName": "Mohammed Saif",
      "photoUrl": "https://lh3.googleusercontent.com/a-/AOh14Ghj0XbNEna_DcGJzJFAzeP-cmJPv9j6G6WlGdMbwjI=s64",
      "userId": "17148211409437539951"
     },
     "user_tz": -60
    },
    "id": "gPvzV78Y8gPv",
    "outputId": "ffbe923f-7f39-44b2-ad4b-daa2b88e72ac"
   },
   "outputs": [
    {
     "data": {
      "text/html": [
       "<div>\n",
       "<style scoped>\n",
       "    .dataframe tbody tr th:only-of-type {\n",
       "        vertical-align: middle;\n",
       "    }\n",
       "\n",
       "    .dataframe tbody tr th {\n",
       "        vertical-align: top;\n",
       "    }\n",
       "\n",
       "    .dataframe thead th {\n",
       "        text-align: right;\n",
       "    }\n",
       "</style>\n",
       "<table border=\"1\" class=\"dataframe\">\n",
       "  <thead>\n",
       "    <tr style=\"text-align: right;\">\n",
       "      <th></th>\n",
       "      <th>Address</th>\n",
       "      <th>County</th>\n",
       "      <th>ID</th>\n",
       "      <th>Latitude</th>\n",
       "      <th>Longitude</th>\n",
       "    </tr>\n",
       "  </thead>\n",
       "  <tbody>\n",
       "    <tr>\n",
       "      <th>0</th>\n",
       "      <td>Coolnakisha, Leighlinbridge, carlow</td>\n",
       "      <td>carlow</td>\n",
       "      <td>10000</td>\n",
       "      <td>52.71897854110081</td>\n",
       "      <td>-6.850367224077807</td>\n",
       "    </tr>\n",
       "    <tr>\n",
       "      <th>1</th>\n",
       "      <td>The Ridge, Old Leighlin, carlow</td>\n",
       "      <td>carlow</td>\n",
       "      <td>10000</td>\n",
       "      <td>52.71897854110081</td>\n",
       "      <td>-6.850367224077807</td>\n",
       "    </tr>\n",
       "    <tr>\n",
       "      <th>2</th>\n",
       "      <td>Rathornan, Leighlinbridge, carlow</td>\n",
       "      <td>carlow</td>\n",
       "      <td>10000</td>\n",
       "      <td>52.71897854110081</td>\n",
       "      <td>-6.850367224077807</td>\n",
       "    </tr>\n",
       "    <tr>\n",
       "      <th>3</th>\n",
       "      <td>Baunogephlure, Grange, Killerig, carlow</td>\n",
       "      <td>carlow</td>\n",
       "      <td>10000</td>\n",
       "      <td>52.71897854110081</td>\n",
       "      <td>-6.850367224077807</td>\n",
       "    </tr>\n",
       "    <tr>\n",
       "      <th>4</th>\n",
       "      <td>Johnstown, Bennekerry, carlow</td>\n",
       "      <td>carlow</td>\n",
       "      <td>10000</td>\n",
       "      <td>52.71897854110081</td>\n",
       "      <td>-6.850367224077807</td>\n",
       "    </tr>\n",
       "  </tbody>\n",
       "</table>\n",
       "</div>"
      ],
      "text/plain": [
       "                                   Address  County     ID           Latitude  \\\n",
       "0      Coolnakisha, Leighlinbridge, carlow  carlow  10000  52.71897854110081   \n",
       "1          The Ridge, Old Leighlin, carlow  carlow  10000  52.71897854110081   \n",
       "2        Rathornan, Leighlinbridge, carlow  carlow  10000  52.71897854110081   \n",
       "3  Baunogephlure, Grange, Killerig, carlow  carlow  10000  52.71897854110081   \n",
       "4            Johnstown, Bennekerry, carlow  carlow  10000  52.71897854110081   \n",
       "\n",
       "             Longitude  \n",
       "0   -6.850367224077807  \n",
       "1   -6.850367224077807  \n",
       "2   -6.850367224077807  \n",
       "3   -6.850367224077807  \n",
       "4   -6.850367224077807  "
      ]
     },
     "execution_count": 62,
     "metadata": {},
     "output_type": "execute_result"
    }
   ],
   "source": [
    "df_test_merged.head(5)"
   ]
  },
  {
   "cell_type": "code",
   "execution_count": 63,
   "metadata": {
    "id": "03coFBq-LdMT"
   },
   "outputs": [],
   "source": [
    "# storing into an excel file\n",
    "df_test_merged.to_excel(\"Final_Output.xlsx\")"
   ]
  },
  {
   "cell_type": "code",
   "execution_count": null,
   "metadata": {},
   "outputs": [],
   "source": []
  }
 ],
 "metadata": {
  "colab": {
   "authorship_tag": "ABX9TyNk+JJUYkFvgj46qWtLhPgM",
   "collapsed_sections": [],
   "name": "Geocoder.ipynb",
   "provenance": []
  },
  "kernelspec": {
   "display_name": "Python 3",
   "language": "python",
   "name": "python3"
  },
  "language_info": {
   "codemirror_mode": {
    "name": "ipython",
    "version": 3
   },
   "file_extension": ".py",
   "mimetype": "text/x-python",
   "name": "python",
   "nbconvert_exporter": "python",
   "pygments_lexer": "ipython3",
   "version": "3.7.7"
  }
 },
 "nbformat": 4,
 "nbformat_minor": 1
}
